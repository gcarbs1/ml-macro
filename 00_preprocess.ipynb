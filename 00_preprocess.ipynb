{
 "cells": [
  {
   "cell_type": "code",
   "execution_count": 1,
   "id": "273b7abe",
   "metadata": {},
   "outputs": [],
   "source": [
    "# run this cell to download data!\n",
    "\n",
    "import os\n",
    "\n",
    "directory_path = \"data/00--raw/macro\"\n",
    "\n",
    "if not os.path.exists(directory_path) or not os.listdir(directory_path):\n",
    "    !python3 -m src.fetch.pipeline\n"
   ]
  },
  {
   "cell_type": "code",
   "execution_count": 2,
   "id": "17358863",
   "metadata": {},
   "outputs": [],
   "source": [
    "import pandas as pd\n",
    "from typing import *\n",
    "from src.preprocess.dataset import Dataset, DatasetConfig\n",
    "from src.preprocess.result import ResultData\n",
    "\n",
    "\n",
    "# Usage Example:\n",
    "\n",
    "dataset_names: Optional[List[str]]\n",
    "\n",
    "result_data = ResultData(\n",
    "    datadict = True, # Optional[Dict[str, pd.DataFrame]]\n",
    "    ml_ready = True, # Optional[pd.DataFrame]\n",
    "    metadata = True  # Optional[\"Metadata\"]\n",
    "    )\n",
    "\n",
    "dataset = Dataset(DatasetConfig(type=\"raw\"))\n",
    "\n",
    "result_data = dataset.get(datadict=True, ml_ready=True, metadata=True)\n",
    "datadict = result_data.datadict\n",
    "\n"
   ]
  },
  {
   "cell_type": "code",
   "execution_count": 3,
   "id": "6b65ca6d",
   "metadata": {},
   "outputs": [],
   "source": [
    "from src.clean.clean import clean_datadict\n",
    "filtered_dd, cleaned_dd = clean_datadict(\n",
    "    datadict, \n",
    "    start_year=1991, \n",
    "    spline_order=3,\n",
    "    feat_missing_thresh = 0.2,\n",
    "    country_missing_thresh = 0.2,\n",
    ")"
   ]
  },
  {
   "cell_type": "code",
   "execution_count": 4,
   "id": "9eee33cc",
   "metadata": {},
   "outputs": [
    {
     "name": "stdout",
     "output_type": "stream",
     "text": [
      "✅ Saved: data/01--filter/trade-and-commerce/fdi_net_inflows_current_usd_world_bank.csv\n",
      "✅ Saved: data/01--filter/geographic/area_world_bank.csv\n",
      "✅ Saved: data/01--filter/education/education_years_world_bank.csv\n",
      "✅ Saved: data/01--filter/sectoral-performance/services_value_added_percent_of_gdp_world_bank.csv\n",
      "✅ Saved: data/01--filter/demography/total_population_world_bank.csv\n",
      "✅ Saved: data/01--filter/demography/economic_activity_world_bank.csv\n",
      "✅ Saved: data/01--filter/demography/life_expectancy_at_birth_total_years_world_bank.csv\n",
      "✅ Saved: data/01--filter/demography/population_size_world_bank.csv\n",
      "✅ Saved: data/01--filter/energy/petroleum_energy_production_world_bank.csv\n",
      "✅ Saved: data/01--filter/energy/hydro_electric_energy_production_world_bank.csv\n",
      "✅ Saved: data/01--filter/macroeconomic/unemployment_rate_percent_of_total_labor_force_world_bank.csv\n",
      "✅ Saved: data/01--filter/macroeconomic/gdp_current_usd_world_bank.csv\n",
      "✅ Saved: data/02--clean/trade-and-commerce/fdi_net_inflows_current_usd_world_bank.csv\n",
      "✅ Saved: data/02--clean/geographic/area_world_bank.csv\n",
      "✅ Saved: data/02--clean/education/education_years_world_bank.csv\n",
      "✅ Saved: data/02--clean/sectoral-performance/services_value_added_percent_of_gdp_world_bank.csv\n",
      "✅ Saved: data/02--clean/demography/total_population_world_bank.csv\n",
      "✅ Saved: data/02--clean/demography/economic_activity_world_bank.csv\n",
      "✅ Saved: data/02--clean/demography/life_expectancy_at_birth_total_years_world_bank.csv\n",
      "✅ Saved: data/02--clean/demography/population_size_world_bank.csv\n",
      "✅ Saved: data/02--clean/energy/petroleum_energy_production_world_bank.csv\n",
      "✅ Saved: data/02--clean/energy/hydro_electric_energy_production_world_bank.csv\n",
      "✅ Saved: data/02--clean/macroeconomic/unemployment_rate_percent_of_total_labor_force_world_bank.csv\n",
      "✅ Saved: data/02--clean/macroeconomic/gdp_current_usd_world_bank.csv\n"
     ]
    }
   ],
   "source": [
    "from pathlib import Path\n",
    "\n",
    "def save_cleaned_datasets(\n",
    "        result: ResultData, \n",
    "        base_dir: str = \"data/01--clean/macro\"\n",
    "    )-> None:\n",
    "    \"\"\"\n",
    "    Save cleaned datasets to category-based structure in 01--clean/macro.\n",
    "    \"\"\"\n",
    "    base_dir = Path(base_dir)\n",
    "    if result.datadict is None:\n",
    "        raise ValueError(\"result data must contain a valid datadict\")\n",
    "    if result.metadata.category_dict is None:\n",
    "        raise ValueError(\"result data must contain valid metadata.category_dict\")\n",
    "    datadict = result.datadict\n",
    "    category_dict = result.metadata.category_dict\n",
    "\n",
    "    for name, df in datadict.items():\n",
    "        category = category_dict.get(name, \"uncategorized\")\n",
    "        folder = base_dir / category\n",
    "        folder.mkdir(parents=True, exist_ok=True)\n",
    "\n",
    "        file_path = folder / f\"{name}_world_bank.csv\"\n",
    "        df.to_csv(file_path)\n",
    "        print(f\"✅ Saved: {file_path}\")\n",
    "\n",
    "\n",
    "filt_rd:  ResultData = Dataset(DatasetConfig(type=\"raw\")).get(datadict=True, metadata=True)\n",
    "clean_rd: ResultData = Dataset(DatasetConfig(type=\"raw\")).get(datadict=True, metadata=True)\n",
    "\n",
    "filt_rd.datadict = filtered_dd\n",
    "clean_rd.datadict = cleaned_dd\n",
    "\n",
    "save_cleaned_datasets(result=filt_rd, base_dir=\"data/01--filter/\")                      \n",
    "save_cleaned_datasets(result=clean_rd, base_dir=\"data/02--clean/\")"
   ]
  },
  {
   "cell_type": "code",
   "execution_count": null,
   "id": "55772edd",
   "metadata": {},
   "outputs": [],
   "source": []
  }
 ],
 "metadata": {
  "kernelspec": {
   "display_name": "venv",
   "language": "python",
   "name": "python3"
  },
  "language_info": {
   "codemirror_mode": {
    "name": "ipython",
    "version": 3
   },
   "file_extension": ".py",
   "mimetype": "text/x-python",
   "name": "python",
   "nbconvert_exporter": "python",
   "pygments_lexer": "ipython3",
   "version": "3.10.12"
  }
 },
 "nbformat": 4,
 "nbformat_minor": 5
}
