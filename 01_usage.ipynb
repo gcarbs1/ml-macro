{
 "cells": [
  {
   "cell_type": "code",
   "execution_count": 1,
   "id": "6f82a86c",
   "metadata": {},
   "outputs": [],
   "source": [
    "import pandas as pd\n",
    "from typing import *\n",
    "from src.preprocess.dataset import Dataset, DatasetConfig\n",
    "from src.preprocess.result import ResultData\n",
    "\n",
    "\n",
    "# Usage Example:\n",
    "\n",
    "dataset_names: Optional[List[str]]\n",
    "\n",
    "rd_raw = ResultData(\n",
    "    datadict = True, # Optional[Dict[str, pd.DataFrame]]\n",
    "    ml_ready = True, # Optional[pd.DataFrame]\n",
    "    metadata = True  # Optional[\"Metadata\"]\n",
    "    )\n",
    "\n",
    "rd_clean = ResultData(\n",
    "    datadict = True, # Optional[Dict[str, pd.DataFrame]]\n",
    "    ml_ready = True, # Optional[pd.DataFrame]\n",
    "    metadata = True  # Optional[\"Metadata\"]\n",
    "    )\n",
    "\n",
    "dataset_raw = Dataset(\n",
    "    DatasetConfig(use_raw=True)\n",
    ")\n",
    "\n",
    "dataset_clean = Dataset(\n",
    "    DatasetConfig(use_raw=False)\n",
    ")\n",
    "\n",
    "result_raw   = dataset_raw.get(rd_raw)\n",
    "result_clean = dataset_clean.get(rd_clean)"
   ]
  },
  {
   "cell_type": "code",
   "execution_count": 2,
   "id": "d58ea6d2",
   "metadata": {},
   "outputs": [
    {
     "name": "stdout",
     "output_type": "stream",
     "text": [
      "total NaN in raw:     168192\n",
      "total NaN in cleaned: 0\n",
      "True\n",
      "False\n",
      "\n",
      "group sizes raw:   country\n",
      "afghanistan           65\n",
      "albania               65\n",
      "algeria               65\n",
      "american_samoa        65\n",
      "andorra               65\n",
      "                      ..\n",
      "virgin_islands_us     65\n",
      "west_bank_and_gaza    65\n",
      "yemen                 65\n",
      "zambia                65\n",
      "zimbabwe              65\n",
      "Length: 219, dtype: int64\n",
      "\n",
      "group sizes clean: country\n",
      "afghanistan           25\n",
      "albania               25\n",
      "algeria               25\n",
      "angola                25\n",
      "armenia               25\n",
      "                      ..\n",
      "vanuatu               25\n",
      "vietnam               25\n",
      "west_bank_and_gaza    25\n",
      "zambia                25\n",
      "zimbabwe              25\n",
      "Length: 158, dtype: int64\n"
     ]
    }
   ],
   "source": [
    "print(f\"total NaN in raw:     {result_raw.ml_ready.isna().sum().sum()}\")\n",
    "print(f\"total NaN in cleaned: {result_clean.ml_ready.isna().sum().sum()}\")\n",
    "\n",
    "print(dataset_raw.config.use_raw)\n",
    "print(dataset_clean.config.use_raw)\n",
    "\n",
    "print(f\"\\ngroup sizes raw:   {result_raw.ml_ready.groupby('country').size()}\")\n",
    "print(f\"\\ngroup sizes clean: {result_clean.ml_ready.groupby('country').size()}\")\n"
   ]
  },
  {
   "cell_type": "code",
   "execution_count": 3,
   "id": "863868a8",
   "metadata": {},
   "outputs": [
    {
     "name": "stdout",
     "output_type": "stream",
     "text": [
      "raw dataset\n",
      "|    | date                | country        |   research_and_development_expenditure_percent_of_gdp |   individuals_using_the_internet_percent_of_population |   net_trade_in_goods_and_services_current_usd |   fdi_net_inflows_current_usd |   area |   education_expenditures |   education_years |   services_value_added_percent_of_gdp |   manufacturing_value_added_percent_of_gdp |   net_official_development_assistance_received_current_usd |   total_population |   poverty_headcount_ratio_at_1.90_a_day_2011_ppp_percent_of_population |   economic_activity |   life_expectancy_at_birth_total_years |   gdp_per_person_employed_constant_2011_ppp_usd |   population_size |   gini_income_inequality |   petroleum_energy_production |   renewables_excluding_hydro_share |   energy_use_kg_of_oil_equivalent_per_capita |   hydro_electric_energy_production |   gas_energy_production |   coal_energy_production |   consumer_price_index_change |   unemployment_rate_percent_of_total_labor_force |   gdp_current_usd |\n",
      "|---:|:--------------------|:---------------|------------------------------------------------------:|-------------------------------------------------------:|----------------------------------------------:|------------------------------:|-------:|-------------------------:|------------------:|--------------------------------------:|-------------------------------------------:|-----------------------------------------------------------:|-------------------:|-----------------------------------------------------------------------:|--------------------:|---------------------------------------:|------------------------------------------------:|------------------:|-------------------------:|------------------------------:|-----------------------------------:|---------------------------------------------:|-----------------------------------:|------------------------:|-------------------------:|------------------------------:|-------------------------------------------------:|------------------:|\n",
      "|  0 | 1960-01-01 00:00:00 | afghanistan    |                                                   nan |                                                    nan |                                  -1.55555e+07 |                           nan |    nan |                      nan |               nan |                                   nan |                                        nan |                                                 1.718e+07  |        9.03504e+06 |                                                                    nan |                 nan |                                 32.799 |                                             nan |       9.03504e+06 |                      nan |                           nan |                                nan |                                          nan |                                nan |                     nan |                      nan |                           nan |                                              nan |     nan           |\n",
      "|  1 | 1960-01-01 00:00:00 | albania        |                                                   nan |                                                    nan |                                 nan           |                           nan |    nan |                      nan |               nan |                                   nan |                                        nan |                                               nan          |        1.6088e+06  |                                                                    nan |                 nan |                                 56.413 |                                             nan |       1.6088e+06  |                      nan |                           nan |                                nan |                                          nan |                                nan |                     nan |                      nan |                           nan |                                              nan |     nan           |\n",
      "|  2 | 1960-01-01 00:00:00 | algeria        |                                                   nan |                                                    nan |                                  -7.65348e+08 |                           nan |    nan |                      nan |               nan |                                   nan |                                        nan |                                                 3.5505e+08 |        1.14249e+07 |                                                                    nan |                 nan |                                 40.839 |                                             nan |       1.14249e+07 |                      nan |                           nan |                                nan |                                          nan |                                nan |                     nan |                      nan |                           nan |                                              nan |       2.72362e+09 |\n",
      "|  3 | 1960-01-01 00:00:00 | american_samoa |                                                   nan |                                                    nan |                                 nan           |                           nan |    nan |                      nan |               nan |                                   nan |                                        nan |                                               nan          |    20133           |                                                                    nan |                 nan |                                 65.053 |                                             nan |   20133           |                      nan |                           nan |                                nan |                                          nan |                                nan |                     nan |                      nan |                           nan |                                              nan |     nan           |\n",
      "|  4 | 1960-01-01 00:00:00 | andorra        |                                                   nan |                                                    nan |                                 nan           |                           nan |    nan |                      nan |               nan |                                   nan |                                        nan |                                               nan          |     9510           |                                                                    nan |                 nan |                                 72.094 |                                             nan |    9510           |                      nan |                           nan |                                nan |                                          nan |                                nan |                     nan |                      nan |                           nan |                                              nan |     nan           |\n",
      "cleaned dataset\n",
      "|    | date                | country     |   individuals_using_the_internet_percent_of_population |   net_trade_in_goods_and_services_current_usd |   fdi_net_inflows_current_usd |             area |   education_years |   services_value_added_percent_of_gdp |   manufacturing_value_added_percent_of_gdp |   total_population |   economic_activity |   life_expectancy_at_birth_total_years |   gdp_per_person_employed_constant_2011_ppp_usd |   population_size |   petroleum_energy_production |   renewables_excluding_hydro_share |   hydro_electric_energy_production |   gas_energy_production |   coal_energy_production |   consumer_price_index_change |   unemployment_rate_percent_of_total_labor_force |   gdp_current_usd |\n",
      "|---:|:--------------------|:------------|-------------------------------------------------------:|----------------------------------------------:|------------------------------:|-----------------:|------------------:|--------------------------------------:|-------------------------------------------:|-------------------:|--------------------:|---------------------------------------:|------------------------------------------------:|------------------:|------------------------------:|-----------------------------------:|-----------------------------------:|------------------------:|-------------------------:|------------------------------:|-------------------------------------------------:|------------------:|\n",
      "|  0 | 2000-01-01 00:00:00 | afghanistan |                                                0.00472 |                                  -5.16225e+09 |              170000           | 652860           |                 6 |                               36.1512 |                                   18.8228  |        2.01303e+07 |              47.602 |                                55.005  |                                         7550.48 |       2.01303e+07 |                       6.46268 |                         0          |                          93.5373   |                  0      |                        0 |                      63.5234  |                                            7.935 |       3.52142e+09 |\n",
      "|  1 | 2000-01-01 00:00:00 | albania     |                                                0.114   |                                  -8.0826e+08  |                   1.43e+08    |  28750           |                 4 |                               44.303  |                                    4.31785 |        3.08903e+06 |              66.624 |                                74.826  |                                        18899    |       3.08903e+06 |                       3.85098 |                         0          |                          96.149    |                  0      |                        0 |                      74.1375  |                                           19.023 |       3.48036e+09 |\n",
      "|  2 | 2000-01-01 00:00:00 | algeria     |                                                0.492   |                                   1.166e+10   |                   2.801e+08   |      2.38174e+06 |                 6 |                               33.1105 |                                   44.9804  |        3.09039e+07 |              46.947 |                                70.576  |                                        56081.6  |       3.09039e+07 |                       3.04187 |                         0          |                           0.212498 |                 96.7456 |                        0 |                      70.4381  |                                           29.77  |       5.47904e+10 |\n",
      "|  3 | 2000-01-01 00:00:00 | angola      |                                                0.105   |                                   1.35556e+09 |                   8.7862e+08  |      1.2467e+06  |                 4 |                               22.2124 |                                    2.89016 |        1.61949e+07 |              77.855 |                                46.501  |                                        17119.8  |       1.61949e+07 |                      36.8858  |                        -0.810381   |                          63.1142   |                 12.4567 |                        0 |                       2.90908 |                                           16.682 |       9.12959e+09 |\n",
      "|  4 | 2000-01-01 00:00:00 | armenia     |                                                1.3     |                                  -5.33527e+08 |                   1.04188e+08 |  29740           |                 3 |                               45.6989 |                                    9.42476 |        3.2211e+06  |              69.432 |                                72.8805 |                                        11330.8  |       3.2211e+06  |                       0       |                         0.00167842 |                          21.1648   |                 45.1829 |                        0 |                      65.0006  |                                           11.095 |       1.91156e+09 |\n"
     ]
    }
   ],
   "source": [
    "print(\"raw dataset\")\n",
    "print(result_raw.ml_ready.head().to_markdown())\n",
    "\n",
    "print(\"cleaned dataset\")\n",
    "print(result_clean.ml_ready.head().to_markdown())"
   ]
  },
  {
   "cell_type": "code",
   "execution_count": 4,
   "id": "f49733b8",
   "metadata": {},
   "outputs": [
    {
     "name": "stdout",
     "output_type": "stream",
     "text": [
      "individuals_using_the_internet_percent_of_population\n",
      "net_trade_in_goods_and_services_current_usd\n",
      "fdi_net_inflows_current_usd\n",
      "area\n",
      "education_years\n",
      "services_value_added_percent_of_gdp\n",
      "manufacturing_value_added_percent_of_gdp\n",
      "total_population\n",
      "economic_activity\n",
      "life_expectancy_at_birth_total_years\n",
      "gdp_per_person_employed_constant_2011_ppp_usd\n",
      "population_size\n",
      "petroleum_energy_production\n",
      "renewables_excluding_hydro_share\n",
      "hydro_electric_energy_production\n",
      "gas_energy_production\n",
      "coal_energy_production\n",
      "consumer_price_index_change\n",
      "unemployment_rate_percent_of_total_labor_force\n",
      "gdp_current_usd\n"
     ]
    }
   ],
   "source": [
    "# dictionary with key=names : value=dataframe\n",
    "\n",
    "\"\"\"\n",
    "{\"feature1\" : dataframe}\n",
    "\n",
    "frames in format:\n",
    "year | country1 | country2 ...\n",
    "2019 | value1   | value2   \n",
    "\"\"\"\n",
    "\n",
    "datadict : Dict[str, pd.DataFrame] = result_clean.datadict\n",
    "\n",
    "for key in list(datadict.keys()): \n",
    "    print(f\"{key}\") "
   ]
  },
  {
   "cell_type": "code",
   "execution_count": 5,
   "id": "ad2b86d4",
   "metadata": {},
   "outputs": [
    {
     "name": "stdout",
     "output_type": "stream",
     "text": [
      "|    | date                | country     |   individuals_using_the_internet_percent_of_population |   net_trade_in_goods_and_services_current_usd |   fdi_net_inflows_current_usd |             area |   education_years |   services_value_added_percent_of_gdp |   manufacturing_value_added_percent_of_gdp |   total_population |   economic_activity |   life_expectancy_at_birth_total_years |   gdp_per_person_employed_constant_2011_ppp_usd |   population_size |   petroleum_energy_production |   renewables_excluding_hydro_share |   hydro_electric_energy_production |   gas_energy_production |   coal_energy_production |   consumer_price_index_change |   unemployment_rate_percent_of_total_labor_force |   gdp_current_usd |\n",
      "|---:|:--------------------|:------------|-------------------------------------------------------:|----------------------------------------------:|------------------------------:|-----------------:|------------------:|--------------------------------------:|-------------------------------------------:|-------------------:|--------------------:|---------------------------------------:|------------------------------------------------:|------------------:|------------------------------:|-----------------------------------:|-----------------------------------:|------------------------:|-------------------------:|------------------------------:|-------------------------------------------------:|------------------:|\n",
      "|  0 | 2000-01-01 00:00:00 | afghanistan |                                                0.00472 |                                  -5.16225e+09 |              170000           | 652860           |                 6 |                               36.1512 |                                   18.8228  |        2.01303e+07 |              47.602 |                                55.005  |                                         7550.48 |       2.01303e+07 |                       6.46268 |                         0          |                          93.5373   |                  0      |                        0 |                      63.5234  |                                            7.935 |       3.52142e+09 |\n",
      "|  1 | 2000-01-01 00:00:00 | albania     |                                                0.114   |                                  -8.0826e+08  |                   1.43e+08    |  28750           |                 4 |                               44.303  |                                    4.31785 |        3.08903e+06 |              66.624 |                                74.826  |                                        18899    |       3.08903e+06 |                       3.85098 |                         0          |                          96.149    |                  0      |                        0 |                      74.1375  |                                           19.023 |       3.48036e+09 |\n",
      "|  2 | 2000-01-01 00:00:00 | algeria     |                                                0.492   |                                   1.166e+10   |                   2.801e+08   |      2.38174e+06 |                 6 |                               33.1105 |                                   44.9804  |        3.09039e+07 |              46.947 |                                70.576  |                                        56081.6  |       3.09039e+07 |                       3.04187 |                         0          |                           0.212498 |                 96.7456 |                        0 |                      70.4381  |                                           29.77  |       5.47904e+10 |\n",
      "|  3 | 2000-01-01 00:00:00 | angola      |                                                0.105   |                                   1.35556e+09 |                   8.7862e+08  |      1.2467e+06  |                 4 |                               22.2124 |                                    2.89016 |        1.61949e+07 |              77.855 |                                46.501  |                                        17119.8  |       1.61949e+07 |                      36.8858  |                        -0.810381   |                          63.1142   |                 12.4567 |                        0 |                       2.90908 |                                           16.682 |       9.12959e+09 |\n",
      "|  4 | 2000-01-01 00:00:00 | armenia     |                                                1.3     |                                  -5.33527e+08 |                   1.04188e+08 |  29740           |                 3 |                               45.6989 |                                    9.42476 |        3.2211e+06  |              69.432 |                                72.8805 |                                        11330.8  |       3.2211e+06  |                       0       |                         0.00167842 |                          21.1648   |                 45.1829 |                        0 |                      65.0006  |                                           11.095 |       1.91156e+09 |\n"
     ]
    }
   ],
   "source": [
    "# single dataframe in format\n",
    "\"\"\"\n",
    "year country   |  feature1 |  feature2 ...\n",
    "2019 country1  |  value    |  value    ...\n",
    "2019 country2  |  value    |  value    ...\n",
    "2019 country3  |  value    |  value    ...\n",
    "...\n",
    "2020 country1  |  feature1 |  value    ...\n",
    "2020 country2  |  feature1 |  value    ...\n",
    "2020 country3  |  feature1 |  value    ...\n",
    "...\n",
    "\"\"\"\n",
    "\n",
    "\n",
    "ml_data : pd.DataFrame = result_clean.ml_ready\n",
    "print(ml_data.head().to_markdown())"
   ]
  }
 ],
 "metadata": {
  "kernelspec": {
   "display_name": "venv",
   "language": "python",
   "name": "python3"
  },
  "language_info": {
   "codemirror_mode": {
    "name": "ipython",
    "version": 3
   },
   "file_extension": ".py",
   "mimetype": "text/x-python",
   "name": "python",
   "nbconvert_exporter": "python",
   "pygments_lexer": "ipython3",
   "version": "3.10.12"
  }
 },
 "nbformat": 4,
 "nbformat_minor": 5
}
